{
 "cells": [
  {
   "cell_type": "code",
   "execution_count": 1,
   "metadata": {
    "collapsed": true
   },
   "outputs": [],
   "source": [
    "%matplotlib inline\n",
    "\n",
    "import numpy as np\n",
    "import scipy.io as sio\n",
    "import matplotlib.pyplot as plt\n",
    "import scipy.optimize as op\n",
    "import math as math\n",
    "\n",
    "# use seaborn plotting defaults\n",
    "import seaborn as sns; sns.set()\n"
   ]
  },
  {
   "cell_type": "code",
   "execution_count": 22,
   "metadata": {
    "collapsed": false
   },
   "outputs": [],
   "source": [
    "data = sio.loadmat('ex3data1.mat')\n",
    "rawX = data['X']\n",
    "y = data['y']\n",
    "y = y.flatten()\n",
    "\n",
    "# Data labels in y use '10' for 0, '1' for 1, '2' for 2 and so on. This changes '10' for 0 to '0' for better code \n",
    "for i, label in enumerate(y):\n",
    "    if label == 10:\n",
    "        y[i] = 0\n",
    "\n",
    "# Add the column of 1's to the training data\n",
    "ones = np.ones([rawX.shape[0], 1])\n",
    "X = np.hstack((ones, rawX))\n",
    "\n",
    "# Load provided theta values\n",
    "theta = sio.loadmat('ex3weights.mat')\n",
    "theta1 = theta['Theta1']\n",
    "theta2 = theta['Theta2']\n"
   ]
  },
  {
   "cell_type": "code",
   "execution_count": 103,
   "metadata": {
    "collapsed": false
   },
   "outputs": [
    {
     "name": "stdout",
     "output_type": "stream",
     "text": [
      "hypo theta:  (401, 25)\n",
      "hypo X:  (5000, 401)\n",
      "a2 shape:  (5000, 25)\n",
      "hypo theta:  (26, 10)\n",
      "hypo X:  (5000, 26)\n",
      "Number of Incorrect Predictions:  118\n",
      "Model Success Rate on Training Data: 97.64 %\n"
     ]
    }
   ],
   "source": [
    "# The raw result of the logistic regression. Returns a real value between 0 and 1\n",
    "def hypothesis(theta, X):\n",
    "    # Sigmoid function\n",
    "    print(\"hypo theta: \", theta.shape)\n",
    "    print(\"hypo X: \", X.shape)\n",
    "\n",
    "    return (1 / (1 + math.e**( -1 * ( np.dot(X, theta) ) )))\n",
    "\n",
    "def predict(theta1, theta2, X):\n",
    "    a2 = hypothesis(theta1.T, X)\n",
    "    print(\"a2 shape: \", a2.shape)\n",
    "    \n",
    "    # Add the column of 1's to the training data\n",
    "    ones = np.ones([a2.shape[0], 1])\n",
    "    a2 = np.hstack((ones, a2))\n",
    "\n",
    "    a3 = hypothesis(theta2.T, a2)\n",
    "    \n",
    "    rounded = np.rint(a3)\n",
    "    \n",
    "    #rounded =  np.roll(rounded, 1, 1)\n",
    "\n",
    "    \n",
    "    # Rounding the array should solve most of the classification, but a few will not. For those\n",
    "    # the largest value will be searched for and set as the class\n",
    "    for index, result in enumerate(rounded):\n",
    "        if result.sum() != 1:\n",
    "            ind = a3[index].argmax()\n",
    "            rounded[index][ind] = 1\n",
    "            \n",
    "    rounded = np.roll(rounded, 1, 1)\n",
    "\n",
    "            \n",
    "    return rounded\n",
    "        \n",
    "\n",
    "\n",
    "# Gets predictions of learnt model on entire training data set and compares to label vector (y) for success rate\n",
    "def trainingSetPerformance():\n",
    "    results = predict(theta1, theta2, X)\n",
    "    \n",
    "    correctPredictions = 0\n",
    "    for index, label in enumerate(y): \n",
    "        if results[index, label] == 1:\n",
    "            correctPredictions += 1\n",
    "        #else:\n",
    "            #print('Incorrect prediction at index: ', index)\n",
    "            \n",
    "    print(\"Number of Incorrect Predictions: \", y.size - correctPredictions)\n",
    "    return correctPredictions / y.size\n",
    "            \n",
    "        \n",
    "    \n",
    "    #differences = np.absolute((y - results))\n",
    "    #return 1 - (differences.sum() / y.size)\n",
    "    \n",
    "print(\"Model Success Rate on Training Data:\", trainingSetPerformance()*100, \"%\")\n"
   ]
  }
 ],
 "metadata": {
  "kernelspec": {
   "display_name": "Python 3",
   "language": "python",
   "name": "python3"
  },
  "language_info": {
   "codemirror_mode": {
    "name": "ipython",
    "version": 3
   },
   "file_extension": ".py",
   "mimetype": "text/x-python",
   "name": "python",
   "nbconvert_exporter": "python",
   "pygments_lexer": "ipython3",
   "version": "3.4.3"
  }
 },
 "nbformat": 4,
 "nbformat_minor": 0
}
