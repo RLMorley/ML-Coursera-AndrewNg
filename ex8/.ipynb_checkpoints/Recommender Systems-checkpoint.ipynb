{
 "cells": [
  {
   "cell_type": "code",
   "execution_count": 94,
   "metadata": {
    "collapsed": true
   },
   "outputs": [],
   "source": [
    "# Load Librarys\n",
    "import numpy as np\n",
    "import scipy.io as sio\n",
    "import scipy.optimize as op"
   ]
  },
  {
   "cell_type": "code",
   "execution_count": 95,
   "metadata": {
    "collapsed": false
   },
   "outputs": [
    {
     "name": "stdout",
     "output_type": "stream",
     "text": [
      "Average rating for movie 1 (Toy Story): 3.2061068702290076\n"
     ]
    }
   ],
   "source": [
    "# Load and visulaize data\n",
    "data = sio.loadmat('ex8_movies.mat')\n",
    "R = data['R']\n",
    "Y = data['Y']\n",
    "\n",
    "# Calculate and print the average rating of the first movie\n",
    "ratingList = Y[1, np.where(R[1, :])]\n",
    "averageRating = ratingList.sum() / (ratingList.size)\n",
    "print('Average rating for movie 1 (Toy Story): {}'.format(averageRating))"
   ]
  },
  {
   "cell_type": "code",
   "execution_count": 96,
   "metadata": {
    "collapsed": false
   },
   "outputs": [],
   "source": [
    "# For the results of this algorithm to exactly match those of the coursera forum tests, the flattening/packing \n",
    "# of the  parameters must be done in a fortran way, like octave and matlab would. Numpy defaults to C like\n",
    "def pack_thetas(X, Thetas):\n",
    "    return np.concatenate((X.flatten(order='F'), Thetas.flatten(order='F')))\n",
    "    \n",
    "def unpack_thetas(params, num_users, num_movies, num_features):\n",
    "    X = params[:(num_movies * num_features)].reshape([num_movies, num_features], order='F')\n",
    "    Theta = params[num_movies * num_features:].reshape([num_users, num_features], order='F')\n",
    "    return X, Theta\n",
    "\n",
    "def cofiCostFuncRegularized(params, Y, R, num_users, num_movies, num_features, lamda):\n",
    "        \n",
    "    X, Theta = unpack_thetas(params, num_users, num_movies, num_features)\n",
    "\n",
    "    # The squared difference the predicted rating and actual rating\n",
    "    scorePredictions = (np.dot(X, Theta.T) - Y) ** 2\n",
    "    \n",
    "    # Uses the fact that for movies a user hasn't rated, the entry in R in 0. Therefore removing all possible errors\n",
    "    scorePredictions = scorePredictions * R\n",
    "    \n",
    "    cost = scorePredictions.sum() / 2\n",
    "    \n",
    "    regularization_term = ((lamda / 2) * (Theta**2).sum()) + ((lamda / 2) * (X**2).sum())\n",
    "      \n",
    "    return cost + regularization_term\n",
    "\n",
    "# Implement with for loops for comparison\n",
    "def cofiGradFuncRegularized(params, Y, R, num_users, num_movies, num_features, lamda):\n",
    "    \n",
    "    X, Theta = unpack_thetas(params, num_users, numOfMovies, numOfFeatures)\n",
    "    \n",
    "    # Common part to both the X and Theta partial derivitives\n",
    "    tempGrad = (np.dot(X, Theta.T) - Y) * R\n",
    "    \n",
    "    X_grad = np.dot(tempGrad, Theta)\n",
    "    Theta_grad = np.dot(X.T, tempGrad).T\n",
    "    \n",
    "    X_regularization_term = lamda * X\n",
    "    Theta_regularization_term = lamda * Theta\n",
    "    \n",
    "    X_grad_reg = X_grad + X_regularization_term\n",
    "    Theta_grad_reg = Theta_grad + Theta_regularization_term\n",
    "    \n",
    "    return pack_thetas(X_grad_reg, Theta_grad_reg)\n"
   ]
  },
  {
   "cell_type": "code",
   "execution_count": 97,
   "metadata": {
    "collapsed": false
   },
   "outputs": [
    {
     "name": "stdout",
     "output_type": "stream",
     "text": [
      "Initial Cost:  22.2246037257\n",
      "Cost after optization:  6.73161745235e-13\n"
     ]
    }
   ],
   "source": [
    "# Load a set of predefined values for X and Theta\n",
    "data = sio.loadmat('ex8_movieParams.mat')\n",
    "X = data['X']\n",
    "Theta = data['Theta']\n",
    "\n",
    "# Reduce the data set size so that this runs faster\n",
    "numOfUsers = 4\n",
    "numOfMovies = 5\n",
    "numOfFeatures = 3\n",
    "X_slice = X[:numOfMovies, :numOfFeatures]\n",
    "Theta = Theta[:numOfUsers, :numOfFeatures]\n",
    "Y_slice = Y[:numOfMovies, :numOfUsers]\n",
    "R_slice = R[:numOfMovies, :numOfUsers]\n",
    "\n",
    "# This cofiCostFunc shoud return a value of around 22.22\n",
    "params = pack_thetas(X_slice, Theta)\n",
    "print(\"Initial Cost: \", cofiCostFuncRegularized(params, Y_slice, R_slice, numOfUsers, numOfMovies, numOfFeatures, 0))\n",
    "\n",
    "myArgs = (Y_slice, R_slice, numOfUsers, numOfMovies, numOfFeatures, 0)\n",
    "result = op.minimize(cofiCostFuncRegularized, params, args=myArgs, jac=cofiGradFuncRegularized, method='BFGS')\n",
    "optimal_params = result.x\n",
    "\n",
    "print(\"Cost after optization: \", cofiCostFuncRegularized(optimal_params, Y_slice, R_slice, numOfUsers, numOfMovies, numOfFeatures, 0))\n"
   ]
  },
  {
   "cell_type": "code",
   "execution_count": 98,
   "metadata": {
    "collapsed": false
   },
   "outputs": [],
   "source": [
    "def normalizeRatings(Y, R):\n",
    "    \n",
    "    m, n = Y.shape\n",
    "    \n",
    "    Ymean = np.zeros([m, 1])\n",
    "    Ynorm = np.zeros([m , n])\n",
    "    \n",
    "    for i in range(m):\n",
    "        idx = np.where(R[i, :] == 1)\n",
    "        Ymean[i] = np.mean(Y[i, idx])\n",
    "        Ynorm[i, idx] = Y[i, idx] - Ymean[i]\n",
    "        \n",
    "    return Ynorm, Ymean    \n"
   ]
  },
  {
   "cell_type": "code",
   "execution_count": 99,
   "metadata": {
    "collapsed": false
   },
   "outputs": [
    {
     "name": "stdout",
     "output_type": "stream",
     "text": [
      "Warning: Maximum number of iterations has been exceeded.\n",
      "         Current function value: 71910.379197\n",
      "         Iterations: 200\n",
      "         Function evaluations: 303\n",
      "         Gradient evaluations: 303\n"
     ]
    }
   ],
   "source": [
    "# Load and visulaize data\n",
    "data = sio.loadmat('ex8_movies.mat')\n",
    "R = data['R']\n",
    "Y = data['Y']\n",
    "\n",
    "# Load movie titles into file\n",
    "f = open('movie_ids.txt', 'r')\n",
    "movieList = np.array([x for x in f])\n",
    "\n",
    "#print(movieList)\n",
    "my_ratings = np.zeros([1682, 1]);\n",
    "\n",
    "# Add some ratings\n",
    "my_ratings[0] = 4;\n",
    "my_ratings[97] = 2;\n",
    "my_ratings[6] = 3;\n",
    "my_ratings[11]= 5;\n",
    "my_ratings[53] = 4;\n",
    "my_ratings[63]= 5;\n",
    "my_ratings[65]= 3;\n",
    "my_ratings[68] = 5;\n",
    "my_ratings[182] = 4;\n",
    "my_ratings[225] = 5;\n",
    "my_ratings[354]= 5;\n",
    "\n",
    "# Add my new rating to the list of ratings\n",
    "Y = np.hstack((my_ratings, Y))\n",
    "\n",
    "# Create R array for my new user preferences\n",
    "myR = np.where(my_ratings != 0, 1, 0)\n",
    "\n",
    "# Add it to the main R array\n",
    "R = np.hstack((myR, R))\n",
    "\n",
    "# Normalize my ratings\n",
    "Ynorm , Ymean = normalizeRatings(Y, R)\n",
    "\n",
    "# Useful variables\n",
    "numOfUsers = Y.shape[1]\n",
    "numOfMovies = Y.shape[0]\n",
    "numOfFeatures = 10\n",
    "\n",
    "# Randomly initialize the parameters\n",
    "X =  np.random.randn(numOfMovies, numOfFeatures)\n",
    "Theta = np.random.randn(numOfUsers, numOfFeatures)\n",
    "lamda = 10\n",
    "\n",
    "# Flatten params into single array\n",
    "params = pack_thetas(X, Theta)\n",
    "\n",
    "myargs = (Y, R, numOfUsers, numOfMovies, numOfFeatures, lamda)\n",
    "opts = {'maxiter': 100}\n",
    "\n",
    "#result = op.minimize(cofiCostFuncRegularized, params, args=myargs, jac=cofiGradFuncRegularized, method='L-BFGS-B' , options=opts)\n",
    "#optimal_parmas = result.x\n",
    "#print(result)\n",
    "\n",
    "res1 = op.optimize.fmin_cg(f=cofiCostFuncRegularized, x0=params, fprime=cofiGradFuncRegularized, args=myargs, **opts)\n",
    "\n"
   ]
  },
  {
   "cell_type": "code",
   "execution_count": 100,
   "metadata": {
    "collapsed": false
   },
   "outputs": [
    {
     "name": "stdout",
     "output_type": "stream",
     "text": [
      "Top recomendations for you:\n",
      "Predicting rating 8.545845589324259 for movie 313 Titanic (1997)\n",
      "\n",
      "Predicting rating 8.537472986810753 for movie 50 Star Wars (1977)\n",
      "\n",
      "Predicting rating 8.32430800244579 for movie 64 Shawshank Redemption, The (1994)\n",
      "\n",
      "Predicting rating 8.242771502323919 for movie 174 Raiders of the Lost Ark (1981)\n",
      "\n",
      "Predicting rating 8.226280241373082 for movie 318 Schindler's List (1993)\n",
      "\n",
      "Predicting rating 8.188855939229652 for movie 272 Good Will Hunting (1997)\n",
      "\n",
      "Predicting rating 8.07680362117411 for movie 172 Empire Strikes Back, The (1980)\n",
      "\n",
      "Predicting rating 8.05594562333999 for movie 12 Usual Suspects, The (1995)\n",
      "\n",
      "Predicting rating 8.037330718974326 for movie 127 Godfather, The (1972)\n",
      "\n",
      "Predicting rating 8.015913198716248 for movie 22 Braveheart (1995)\n",
      "\n",
      "1682\n",
      "Original ratings provided:\n",
      "Rated [ 4.] for 1 Toy Story (1995)\n",
      "\n",
      "Rated [ 3.] for 7 Twelve Monkeys (1995)\n",
      "\n",
      "Rated [ 5.] for 12 Usual Suspects, The (1995)\n",
      "\n",
      "Rated [ 4.] for 54 Outbreak (1995)\n",
      "\n",
      "Rated [ 5.] for 64 Shawshank Redemption, The (1994)\n",
      "\n",
      "Rated [ 3.] for 66 While You Were Sleeping (1995)\n",
      "\n",
      "Rated [ 5.] for 69 Forrest Gump (1994)\n",
      "\n",
      "Rated [ 2.] for 98 Silence of the Lambs, The (1991)\n",
      "\n",
      "Rated [ 4.] for 183 Alien (1979)\n",
      "\n",
      "Rated [ 5.] for 226 Die Hard 2 (1990)\n",
      "\n",
      "Rated [ 5.] for 355 Sphere (1998)\n",
      "\n"
     ]
    }
   ],
   "source": [
    "# Unpack the found parameters\n",
    "X_optimal, Theta_optimal = unpack_thetas(res1, numOfUsers, numOfMovies, numOfFeatures)\n",
    "\n",
    "# predicted value of the model\n",
    "p = np.dot(X_optimal, Theta_optimal.T)\n",
    "\n",
    "# Unnormalize\n",
    "predictions = p + Ymean\n",
    "my_predictions = predictions[:, 0]\n",
    "\n",
    "# Find the index of the best predicted movies to watch. Sorted from best predicted rating to worst\n",
    "sort = np.argsort(my_predictions)[::-1]\n",
    "\n",
    "print(\"Top recomendations for you:\")\n",
    "for movie_index in range(10):\n",
    "    movie = movieList[sort[movie_index]]\n",
    "    prediction = my_predictions[sort[movie_index]]\n",
    "    print(\"Predicting rating {} for movie {}\".format(prediction, movie))\n",
    "    \n",
    "    \n",
    "print((my_ratings.size))\n",
    "    \n",
    "print(\"Original ratings provided:\")\n",
    "for movie_index in range(my_ratings.size):\n",
    "    if my_ratings[movie_index] > 0:\n",
    "        print(\"Rated {} for {}\".format(my_ratings[movie_index], movieList[movie_index]))\n",
    "    "
   ]
  },
  {
   "cell_type": "markdown",
   "metadata": {},
   "source": [
    "######################################################################################################################################################################################################################################"
   ]
  },
  {
   "cell_type": "code",
   "execution_count": 102,
   "metadata": {
    "collapsed": false
   },
   "outputs": [
    {
     "name": "stdout",
     "output_type": "stream",
     "text": [
      "Cost:  331.0811\n",
      "Gradient:  [-15.588 -22.344   1.8   -12.572 -18.438 -26.862   4.2   -14.744   1.977\n",
      "  -1.028   4.593  -5.059  -8.26    1.941]\n"
     ]
    }
   ],
   "source": [
    "'Everything Below is for tests described on the coursera forum for the cost and gradient functions'\n",
    "\n",
    "R = np.array([[1, 0, 1,], [1, 1, 1], [0, 0, 0], [1, 1, 0]])\n",
    "params = np.array([0.10000,   0.20000,   0.30000,   0.40000,   0.50000,   0.60000,   0.70000,   0.80000,  0.90000,   1.00000,   1.10000,   1.20000,   1.30000,   1.40000])\n",
    "\n",
    "Y = np.array([ [16, 2, 3, 13], [5, 11, 10, 8], [9, 7, 6, 12], [4, 14, 15, 1] ])\n",
    "Y = Y[:, :3]\n",
    "\n",
    "numOfUsers = 3\n",
    "numOfMovies = 4\n",
    "numOfFeatures = 2\n",
    "lamda = 6.0\n",
    "\n",
    "cost = cofiCostFuncRegularized(params, Y, R, numOfUsers, numOfMovies, numOfFeatures, lamda)\n",
    "gradient = cofiGradFuncRegularized(params, Y, R, numOfUsers, numOfMovies, numOfFeatures, lamda)\n",
    "print(\"Cost: \", cost)\n",
    "print(\"Gradient: \", gradient)\n"
   ]
  },
  {
   "cell_type": "code",
   "execution_count": null,
   "metadata": {
    "collapsed": true
   },
   "outputs": [],
   "source": []
  }
 ],
 "metadata": {
  "kernelspec": {
   "display_name": "Python 3",
   "language": "python",
   "name": "python3"
  },
  "language_info": {
   "codemirror_mode": {
    "name": "ipython",
    "version": 3
   },
   "file_extension": ".py",
   "mimetype": "text/x-python",
   "name": "python",
   "nbconvert_exporter": "python",
   "pygments_lexer": "ipython3",
   "version": "3.4.3"
  }
 },
 "nbformat": 4,
 "nbformat_minor": 0
}
