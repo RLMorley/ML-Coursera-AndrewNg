{
 "cells": [
  {
   "cell_type": "code",
   "execution_count": 1,
   "metadata": {
    "collapsed": true
   },
   "outputs": [],
   "source": [
    "%matplotlib inline\n",
    "\n",
    "import numpy as np\n",
    "import scipy.io as sio\n",
    "import matplotlib.pyplot as plt\n",
    "import scipy.optimize as op\n",
    "import math as math\n",
    "from sklearn import svm, datasets\n",
    "\n",
    "# use seaborn plotting defaults\n",
    "import seaborn as sns; sns.set()"
   ]
  },
  {
   "cell_type": "code",
   "execution_count": 2,
   "metadata": {
    "collapsed": false
   },
   "outputs": [
    {
     "name": "stdout",
     "output_type": "stream",
     "text": [
      "> Anyone knows how much it costs to host a web portal ?\n",
      ">\n",
      "Well, it depends on how many visitors you're expecting.\n",
      "This can be anywhere from less than 10 bucks a month to a couple of $100. \n",
      "You should checkout http://www.rackspace.com/ or perhaps Amazon EC2 \n",
      "if youre running something big..\n",
      "\n",
      "To unsubscribe yourself from this mailing list, send an email to:\n",
      "groupname-unsubscribe@egroups.com\n",
      "\n",
      "\n"
     ]
    }
   ],
   "source": [
    "# Visulize data example\n",
    "f = open('emailSample1.txt', 'r')\n",
    "email = f.read()\n",
    "print(email) "
   ]
  },
  {
   "cell_type": "code",
   "execution_count": 32,
   "metadata": {
    "collapsed": false
   },
   "outputs": [
    {
     "name": "stderr",
     "output_type": "stream",
     "text": [
      "/usr/local/lib/python3.4/dist-packages/ipykernel/__main__.py:58: DeprecationWarning: The value of convert_charrefs will become True in 3.5. You are encouraged to set the value explicitly.\n"
     ]
    },
    {
     "ename": "NameError",
     "evalue": "name 'numpy' is not defined",
     "output_type": "error",
     "traceback": [
      "\u001b[1;31m---------------------------------------------------------------------------\u001b[0m",
      "\u001b[1;31mNameError\u001b[0m                                 Traceback (most recent call last)",
      "\u001b[1;32m<ipython-input-32-cacf9f952544>\u001b[0m in \u001b[0;36m<module>\u001b[1;34m()\u001b[0m\n\u001b[0;32m     86\u001b[0m \u001b[1;31m#vocab_list = np.hstack((indices, words))\u001b[0m\u001b[1;33m\u001b[0m\u001b[1;33m\u001b[0m\u001b[0m\n\u001b[0;32m     87\u001b[0m \u001b[1;33m\u001b[0m\u001b[0m\n\u001b[1;32m---> 88\u001b[1;33m \u001b[0mvocabMapping\u001b[0m\u001b[1;33m(\u001b[0m\u001b[0memail_processed\u001b[0m\u001b[1;33m,\u001b[0m \u001b[0mwords\u001b[0m\u001b[1;33m)\u001b[0m\u001b[1;33m\u001b[0m\u001b[0m\n\u001b[0m\u001b[0;32m     89\u001b[0m \u001b[1;33m\u001b[0m\u001b[0m\n\u001b[0;32m     90\u001b[0m \u001b[1;32mdef\u001b[0m \u001b[0mvocabMapping\u001b[0m\u001b[1;33m(\u001b[0m\u001b[0memail_processed\u001b[0m\u001b[1;33m,\u001b[0m \u001b[0mvocab_list\u001b[0m\u001b[1;33m)\u001b[0m\u001b[1;33m:\u001b[0m\u001b[1;33m\u001b[0m\u001b[0m\n",
      "\u001b[1;32m<ipython-input-28-e07fe3bb829f>\u001b[0m in \u001b[0;36mvocabMapping\u001b[1;34m(email_processed, vocab_list)\u001b[0m\n\u001b[0;32m     91\u001b[0m     \u001b[0memail_map\u001b[0m \u001b[1;33m=\u001b[0m \u001b[0mnp\u001b[0m\u001b[1;33m.\u001b[0m\u001b[0mzeros\u001b[0m\u001b[1;33m(\u001b[0m\u001b[1;33m[\u001b[0m\u001b[0mvocab_list\u001b[0m\u001b[1;33m.\u001b[0m\u001b[0mshape\u001b[0m\u001b[1;33m[\u001b[0m\u001b[1;36m0\u001b[0m\u001b[1;33m]\u001b[0m\u001b[1;33m]\u001b[0m\u001b[1;33m)\u001b[0m\u001b[1;33m\u001b[0m\u001b[0m\n\u001b[0;32m     92\u001b[0m     \u001b[0mmatches\u001b[0m \u001b[1;33m=\u001b[0m \u001b[0mnp\u001b[0m\u001b[1;33m.\u001b[0m\u001b[0mintersect1d\u001b[0m\u001b[1;33m(\u001b[0m\u001b[0memail_processed\u001b[0m\u001b[1;33m,\u001b[0m \u001b[0mvocab_list\u001b[0m\u001b[1;33m)\u001b[0m\u001b[1;33m\u001b[0m\u001b[0m\n\u001b[1;32m---> 93\u001b[1;33m     \u001b[0mitemindex\u001b[0m \u001b[1;33m=\u001b[0m \u001b[0mnumpy\u001b[0m\u001b[1;33m.\u001b[0m\u001b[0mwhere\u001b[0m\u001b[1;33m(\u001b[0m\u001b[0memail_processed\u001b[0m\u001b[1;33m==\u001b[0m\u001b[0mvocab_list\u001b[0m\u001b[1;33m)\u001b[0m\u001b[1;33m\u001b[0m\u001b[0m\n\u001b[0m\u001b[0;32m     94\u001b[0m     \u001b[0mprint\u001b[0m\u001b[1;33m(\u001b[0m\u001b[0mmatches\u001b[0m\u001b[1;33m)\u001b[0m\u001b[1;33m\u001b[0m\u001b[0m\n\u001b[0;32m     95\u001b[0m \u001b[1;33m\u001b[0m\u001b[0m\n",
      "\u001b[1;31mNameError\u001b[0m: name 'numpy' is not defined"
     ]
    }
   ],
   "source": [
    "#data=f.read().replace('\\n', '')   Might be usefull\n",
    "from nltk.stem.snowball import SnowballStemmer\n",
    "stemmer = SnowballStemmer(\"english\")\n",
    "def processEmail(email):\n",
    "    email.lower()\n",
    "    email = strip_tags(email)\n",
    "    \n",
    "    email = normalizeUrls(email)\n",
    "    email = normalizeEmailAddr(email)\n",
    "    email = normalizeDollar(email)\n",
    "    email = normalizeNumbers(email)\n",
    "    email = removeNonWords(email)\n",
    "    email = removeWhiteSpace(email)\n",
    "    \n",
    "    email_split = email.split()\n",
    "    email_stemmed = [stemmer.stem(word) for word in email_split ]\n",
    "    \n",
    "    \n",
    "    return email_stemmed\n",
    "\n",
    "from html.parser import HTMLParser\n",
    "\n",
    "import re\n",
    "def normalizeUrls(email):\n",
    "    _link = re.compile(r'(?:(http://)|(www\\.))(\\S+\\b/?)([!\"#$%&\\'()*+,\\-./:;<=>?@[\\\\\\]^_`{|}~]*)(\\s|$)', re.I)\n",
    "    output = re.sub(_link, 'httpaddr', email)\n",
    "    return output\n",
    "\n",
    "def normalizeEmailAddr(email):\n",
    "    _link = re.compile(\"([a-z0-9!#$%&'*+\\/=?^_`{|}~-]+(?:\\.[a-z0-9!#$%&'*+\\/=?^_`\"\n",
    "                    \"{|}~-]+)*(@|\\sat\\s)(?:[a-z0-9](?:[a-z0-9-]*[a-z0-9])?(\\.|\"\n",
    "                    \"\\sdot\\s))+[a-z0-9](?:[a-z0-9-]*[a-z0-9])?)\")\n",
    "    output = re.sub(_link, 'httpaddr', email)\n",
    "    return output\n",
    "\n",
    "def normalizeDollar(email):\n",
    "    _link = re.compile(r'([£$€])(\\d+(?:\\.\\d{2})?)')\n",
    "    #_link = re.compile(r'([£$€])')\n",
    "    output = re.sub(_link, 'dollarnumb', email)\n",
    "    return output\n",
    "\n",
    "def normalizeNumbers(email):\n",
    "    _link = re.compile(\"[-+]?\\d+[\\.]?\\d*\")\n",
    "    output = re.sub(_link, 'number', email)\n",
    "    return output\n",
    "\n",
    "def removeNonWords(email):\n",
    "    _link = re.compile('[^a-zA-Z\\d\\s]')\n",
    "    output = re.sub(_link, '', email)\n",
    "    return output\n",
    "\n",
    "def removeWhiteSpace(email):\n",
    "    test = \" \"   \n",
    "    return test.join(email.split())\n",
    "    \n",
    "class MLStripper(HTMLParser):\n",
    "    def __init__(self):\n",
    "        super().__init__()\n",
    "        self.reset()\n",
    "        self.fed = []\n",
    "    def handle_data(self, d):\n",
    "        self.fed.append(d)\n",
    "    def get_data(self):\n",
    "        return ''.join(self.fed)\n",
    "\n",
    "def strip_tags(html):\n",
    "    s = MLStripper()\n",
    "    s.feed(html)\n",
    "    return s.get_data()\n",
    "\n",
    "email_processed = processEmail(email)\n",
    "\n",
    "\n",
    "f = open('vocab.txt', 'r')\n",
    "vocab_list = f.read().split()\n",
    "\n",
    "# Extract only the indices and reshape the array to be 2d\n",
    "#indices = np.array(vocab_list[::2])\n",
    "#indices = indices.reshape([indices.shape[0], 1])\n",
    "\n",
    "# Select only the words and reshape the array to be 2d\n",
    "words = np.array(vocab_list[1::2])\n",
    "#words = words.reshape([words.shape[0], 1])\n",
    "\n",
    "# Join the two arrays\n",
    "#vocab_list = np.hstack((indices, words))\n",
    "\n",
    "vocabMapping(email_processed, words)\n",
    "\n",
    "def vocabMapping(email_processed, vocab_list):\n",
    "    email_map = np.zeros([vocab_list.shape[0]])\n",
    "    matches = np.intersect1d(email_processed, vocab_list)\n",
    "    itemindex = np.where(email_processed==vocab_list)\n",
    "    print(matches)\n",
    "    print(itemindex)\n",
    "    \n",
    "    \n",
    "    \n",
    "    \n",
    "    \n",
    "    \n",
    "\n",
    "\n"
   ]
  },
  {
   "cell_type": "code",
   "execution_count": null,
   "metadata": {
    "collapsed": false
   },
   "outputs": [],
   "source": [
    "\n"
   ]
  },
  {
   "cell_type": "code",
   "execution_count": null,
   "metadata": {
    "collapsed": true
   },
   "outputs": [],
   "source": []
  },
  {
   "cell_type": "code",
   "execution_count": null,
   "metadata": {
    "collapsed": true
   },
   "outputs": [],
   "source": []
  }
 ],
 "metadata": {
  "kernelspec": {
   "display_name": "Python 3",
   "language": "python",
   "name": "python3"
  },
  "language_info": {
   "codemirror_mode": {
    "name": "ipython",
    "version": 3
   },
   "file_extension": ".py",
   "mimetype": "text/x-python",
   "name": "python",
   "nbconvert_exporter": "python",
   "pygments_lexer": "ipython3",
   "version": "3.4.3"
  }
 },
 "nbformat": 4,
 "nbformat_minor": 0
}
