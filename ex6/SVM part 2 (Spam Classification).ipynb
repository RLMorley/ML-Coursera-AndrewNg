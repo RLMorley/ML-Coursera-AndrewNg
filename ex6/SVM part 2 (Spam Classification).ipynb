{
 "cells": [
  {
   "cell_type": "code",
   "execution_count": 18,
   "metadata": {
    "collapsed": true
   },
   "outputs": [],
   "source": [
    "%matplotlib inline\n",
    "\n",
    "import numpy as np\n",
    "import scipy.io as sio\n",
    "import matplotlib.pyplot as plt\n",
    "import scipy.optimize as op\n",
    "import math as math\n",
    "from sklearn import svm, datasets\n",
    "\n",
    "# use seaborn plotting defaults\n",
    "import seaborn as sns; sns.set()"
   ]
  },
  {
   "cell_type": "code",
   "execution_count": 19,
   "metadata": {
    "collapsed": false
   },
   "outputs": [
    {
     "name": "stdout",
     "output_type": "stream",
     "text": [
      "> Anyone knows how much it costs to host a web portal ?\n",
      ">\n",
      "Well, it depends on how many visitors you're expecting.\n",
      "This can be anywhere from less than 10 bucks a month to a couple of $100. \n",
      "You should checkout http://www.rackspace.com/ or perhaps Amazon EC2 \n",
      "if youre running something big..\n",
      "\n",
      "To unsubscribe yourself from this mailing list, send an email to:\n",
      "groupname-unsubscribe@egroups.com\n",
      "\n",
      "\n"
     ]
    }
   ],
   "source": [
    "# Visulize data example\n",
    "f = open('emailSample1.txt', 'r')\n",
    "email = f.read()\n",
    "print(email) "
   ]
  },
  {
   "cell_type": "code",
   "execution_count": 20,
   "metadata": {
    "collapsed": false
   },
   "outputs": [
    {
     "name": "stderr",
     "output_type": "stream",
     "text": [
      "/usr/local/lib/python3.4/dist-packages/ipykernel/__main__.py:56: DeprecationWarning: The value of convert_charrefs will become True in 3.5. You are encouraged to set the value explicitly.\n"
     ]
    }
   ],
   "source": [
    "#data=f.read().replace('\\n', '')   Might be usefull\n",
    "from nltk.stem.snowball import SnowballStemmer\n",
    "stemmer = SnowballStemmer(\"english\")\n",
    "def processEmail(email):\n",
    "    email.lower()\n",
    "    email = strip_tags(email)    \n",
    "    email = normalizeUrls(email)\n",
    "    email = normalizeEmailAddr(email)\n",
    "    email = normalizeDollar(email)\n",
    "    email = normalizeNumbers(email)\n",
    "    email = removeNonWords(email)\n",
    "    email = removeWhiteSpace(email)\n",
    "    \n",
    "    email_split = email.split()\n",
    "    email_stemmed = [stemmer.stem(word) for word in email_split ]\n",
    "    \n",
    "    return email_stemmed\n",
    "\n",
    "from html.parser import HTMLParser\n",
    "\n",
    "import re\n",
    "def normalizeUrls(email):\n",
    "    _link = re.compile(r'(?:(http://)|(www\\.))(\\S+\\b/?)([!\"#$%&\\'()*+,\\-./:;<=>?@[\\\\\\]^_`{|}~]*)(\\s|$)', re.I)\n",
    "    output = re.sub(_link, 'httpaddr', email)\n",
    "    return output\n",
    "\n",
    "def normalizeEmailAddr(email):\n",
    "    _link = re.compile(\"([a-z0-9!#$%&'*+\\/=?^_`{|}~-]+(?:\\.[a-z0-9!#$%&'*+\\/=?^_`\"\n",
    "                    \"{|}~-]+)*(@|\\sat\\s)(?:[a-z0-9](?:[a-z0-9-]*[a-z0-9])?(\\.|\"\n",
    "                    \"\\sdot\\s))+[a-z0-9](?:[a-z0-9-]*[a-z0-9])?)\")\n",
    "    output = re.sub(_link, 'httpaddr', email)\n",
    "    return output\n",
    "\n",
    "def normalizeDollar(email):\n",
    "    _link = re.compile(r'([£$€])(\\d+(?:\\.\\d{2})?)')\n",
    "    #_link = re.compile(r'([£$€])')\n",
    "    output = re.sub(_link, 'dollarnumb', email)\n",
    "    return output\n",
    "\n",
    "def normalizeNumbers(email):\n",
    "    _link = re.compile(\"[-+]?\\d+[\\.]?\\d*\")\n",
    "    output = re.sub(_link, 'number', email)\n",
    "    return output\n",
    "\n",
    "def removeNonWords(email):\n",
    "    _link = re.compile('[^a-zA-Z\\d\\s]')\n",
    "    output = re.sub(_link, '', email)\n",
    "    return output\n",
    "\n",
    "def removeWhiteSpace(email):\n",
    "    test = \" \"   \n",
    "    return test.join(email.split())\n",
    "    \n",
    "class MLStripper(HTMLParser):\n",
    "    def __init__(self):\n",
    "        super().__init__()\n",
    "        self.reset()\n",
    "        self.fed = []\n",
    "    def handle_data(self, d):\n",
    "        self.fed.append(d)\n",
    "    def get_data(self):\n",
    "        return ''.join(self.fed)\n",
    "\n",
    "def strip_tags(html):\n",
    "    s = MLStripper()\n",
    "    s.feed(html)\n",
    "    return s.get_data()\n",
    "\n",
    "email_processed = processEmail(email)\n",
    "\n",
    "\n",
    "f = open('vocab.txt', 'r')\n",
    "vocab_list = f.read().split()\n",
    "\n",
    "def vocabMapping(email_processed, vocab_list):\n",
    "    email_map = np.zeros([vocab_list.shape[0]])\n",
    "    matches = np.intersect1d(email_processed, vocab_list)\n",
    "    for match in matches:\n",
    "        itemindex = np.where(match==vocab_list)\n",
    "        email_map[itemindex] = 1\n",
    "        \n",
    "    return email_map\n",
    "        \n",
    "email_map = vocabMapping(email_processed, words)\n",
    "\n",
    "\n"
   ]
  },
  {
   "cell_type": "code",
   "execution_count": 21,
   "metadata": {
    "collapsed": false
   },
   "outputs": [
    {
     "name": "stdout",
     "output_type": "stream",
     "text": [
      "Training Data Score:  0.99975\n",
      "Test Data Score:  0.992\n"
     ]
    }
   ],
   "source": [
    "# ** This part does not use any of the above code ** #\n",
    "\n",
    "# Load already processed email data, train an linear svm and print scores\n",
    "emails = sio.loadmat('spamTrain.mat')\n",
    "X = emails['X']\n",
    "y = emails['y'].flatten()\n",
    "\n",
    "model = svm.LinearSVC(C=0.1)\n",
    "model.fit(X,y)\n",
    "print(\"Training Data Score: \", model.score(X, y))\n",
    "\n",
    "emails = sio.loadmat('spamTest.mat')\n",
    "X = emails['Xtest']\n",
    "y = emails['ytest'].flatten()\n",
    "print(\"Test Data Score: \", model.score(X, y))"
   ]
  }
 ],
 "metadata": {
  "kernelspec": {
   "display_name": "Python 3",
   "language": "python",
   "name": "python3"
  },
  "language_info": {
   "codemirror_mode": {
    "name": "ipython",
    "version": 3
   },
   "file_extension": ".py",
   "mimetype": "text/x-python",
   "name": "python",
   "nbconvert_exporter": "python",
   "pygments_lexer": "ipython3",
   "version": "3.4.3"
  }
 },
 "nbformat": 4,
 "nbformat_minor": 0
}
