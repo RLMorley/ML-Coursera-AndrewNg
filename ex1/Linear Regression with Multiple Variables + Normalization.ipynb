{
 "cells": [
  {
   "cell_type": "code",
   "execution_count": 1,
   "metadata": {
    "collapsed": true
   },
   "outputs": [],
   "source": [
    "import matplotlib.pyplot as plt\n",
    "%matplotlib inline\n",
    "\n",
    "# use seaborn for plot defaults\n",
    "# this can be safely commented out\n",
    "import seaborn; seaborn.set()\n",
    "import numpy as np"
   ]
  },
  {
   "cell_type": "code",
   "execution_count": 2,
   "metadata": {
    "collapsed": false
   },
   "outputs": [],
   "source": [
    "def featureNormalize(X):\n",
    "    size = np.shape(X)\n",
    "    for feature in range(size[1]):\n",
    "        currentSum = 0\n",
    "        \n",
    "        # Calculate the sum of the feature over all the entries and then divide by number of entries for the mean\n",
    "        for entry in range(size[0]):\n",
    "            currentSum += X[entry, feature]\n",
    "            \n",
    "        featureMean = currentSum / size[0]\n",
    "        \n",
    "        # Update the feature in every entry\n",
    "        for entry in range(size[0]):\n",
    "            X[entry, feature] = X[entry, feature] - featureMean\n",
    "            \n",
    "        # Update the feature in every entry by dividing by its standard deviation\n",
    "        standardDeviation  = np.std(X[:, [feature]])\n",
    "        #print(standardDeviation)\n",
    "        for entry in range(size[0]):\n",
    "            X[entry, feature] = X[entry, feature] / standardDeviation\n",
    "    \n",
    "    return X\n",
    "    "
   ]
  },
  {
   "cell_type": "code",
   "execution_count": 3,
   "metadata": {
    "collapsed": false
   },
   "outputs": [
    {
     "name": "stdout",
     "output_type": "stream",
     "text": [
      "[[  1.00000000e+00   1.31415422e-01  -2.26093368e-01]\n",
      " [  1.00000000e+00  -5.09640698e-01  -2.26093368e-01]\n",
      " [  1.00000000e+00   5.07908699e-01  -2.26093368e-01]\n",
      " [  1.00000000e+00  -7.43677059e-01  -1.55439190e+00]\n",
      " [  1.00000000e+00   1.27107075e+00   1.10220517e+00]\n",
      " [  1.00000000e+00  -1.99450507e-02   1.10220517e+00]\n",
      " [  1.00000000e+00  -5.93588523e-01  -2.26093368e-01]\n",
      " [  1.00000000e+00  -7.29685755e-01  -2.26093368e-01]\n",
      " [  1.00000000e+00  -7.89466782e-01  -2.26093368e-01]\n",
      " [  1.00000000e+00  -6.44465993e-01  -2.26093368e-01]\n",
      " [  1.00000000e+00  -7.71822042e-02   1.10220517e+00]\n",
      " [  1.00000000e+00  -8.65999486e-04  -2.26093368e-01]\n",
      " [  1.00000000e+00  -1.40779041e-01  -2.26093368e-01]\n",
      " [  1.00000000e+00   3.15099326e+00   2.43050370e+00]\n",
      " [  1.00000000e+00  -9.31923697e-01  -2.26093368e-01]\n",
      " [  1.00000000e+00   3.80715024e-01   1.10220517e+00]\n",
      " [  1.00000000e+00  -8.65782986e-01  -1.55439190e+00]\n",
      " [  1.00000000e+00  -9.72625673e-01  -2.26093368e-01]\n",
      " [  1.00000000e+00   7.73743478e-01   1.10220517e+00]\n",
      " [  1.00000000e+00   1.31050078e+00   1.10220517e+00]\n",
      " [  1.00000000e+00  -2.97227261e-01  -2.26093368e-01]\n",
      " [  1.00000000e+00  -1.43322915e-01  -1.55439190e+00]\n",
      " [  1.00000000e+00  -5.04552951e-01  -2.26093368e-01]\n",
      " [  1.00000000e+00  -4.91995958e-02   1.10220517e+00]\n",
      " [  1.00000000e+00   2.40309445e+00  -2.26093368e-01]\n",
      " [  1.00000000e+00  -1.14560907e+00  -2.26093368e-01]\n",
      " [  1.00000000e+00  -6.90255715e-01  -2.26093368e-01]\n",
      " [  1.00000000e+00   6.68172729e-01  -2.26093368e-01]\n",
      " [  1.00000000e+00   2.53521350e-01  -2.26093368e-01]\n",
      " [  1.00000000e+00   8.09357707e-01  -2.26093368e-01]\n",
      " [  1.00000000e+00  -2.05647815e-01  -1.55439190e+00]\n",
      " [  1.00000000e+00  -1.27280274e+00  -2.88269044e+00]\n",
      " [  1.00000000e+00   5.00114703e-02   1.10220517e+00]\n",
      " [  1.00000000e+00   1.44532608e+00  -2.26093368e-01]\n",
      " [  1.00000000e+00  -2.41262044e-01   1.10220517e+00]\n",
      " [  1.00000000e+00  -7.16966387e-01  -2.26093368e-01]\n",
      " [  1.00000000e+00  -9.68809863e-01  -2.26093368e-01]\n",
      " [  1.00000000e+00   1.67029651e-01   1.10220517e+00]\n",
      " [  1.00000000e+00   2.81647389e+00   1.10220517e+00]\n",
      " [  1.00000000e+00   2.05187753e-01   1.10220517e+00]\n",
      " [  1.00000000e+00  -4.28236746e-01  -1.55439190e+00]\n",
      " [  1.00000000e+00   3.01854946e-01  -2.26093368e-01]\n",
      " [  1.00000000e+00   7.20322135e-01   1.10220517e+00]\n",
      " [  1.00000000e+00  -1.01841540e+00  -2.26093368e-01]\n",
      " [  1.00000000e+00  -1.46104938e+00  -1.55439190e+00]\n",
      " [  1.00000000e+00  -1.89112638e-01   1.10220517e+00]\n",
      " [  1.00000000e+00  -1.01459959e+00  -2.26093368e-01]]\n"
     ]
    }
   ],
   "source": [
    "f = open('machine-learning-ex1/ex1/ex1data2.txt', 'r')\n",
    "data = np.loadtxt(f, delimiter=',')\n",
    "\n",
    "X = data[:, [0, 1]]\n",
    "y = data[:, 2]\n",
    "\n",
    "normedX = featureNormalize(X)\n",
    "\n",
    "#Add the column of 1's to the training data\n",
    "ones = np.ones([np.shape(normedX)[0], 1])\n",
    "normedX = np.hstack((ones, normedX))\n",
    "print(normedX)"
   ]
  },
  {
   "cell_type": "code",
   "execution_count": 4,
   "metadata": {
    "collapsed": false
   },
   "outputs": [],
   "source": [
    "# This uses mean squared errors as the error metric. This is often called J(theta) in formal notation\n",
    "def costFunction(X, y, weights):\n",
    "    currentCost = 0\n",
    "    for pointIndex, point in enumerate(X):\n",
    "        \n",
    "        # Adding the squared error to the current sum total\n",
    "        currentCost += (np.dot(point, weights) - y[pointIndex])**2\n",
    "        \n",
    "    meanSquaredErrors = currentCost / (np.shape(X)[0] * 2)\n",
    "    \n",
    "    return meanSquaredErrors\n",
    "\n",
    "# Weights array initialised to zeros\n",
    "weights =  np.zeros([np.shape(normedX)[1], 1])\n",
    "\n",
    "# Returns a new weights vector updated with 1 run of batch gradient decent\n",
    "def gradientDecent(X, y, weights):   \n",
    "\n",
    "    # IMPORTANT. If the learning rate is too high, the algorithm will not find the optimum and tends to explode.\n",
    "    # Too small and the algorithm will take a long time finding the optimum\n",
    "    learningRate = 0.2\n",
    "    \n",
    "    tempWeights = np.copy(weights)\n",
    "    \n",
    "    # Calcuate the new weights. All weight updates are applied simultaniously\n",
    "    for weightIndex, j in enumerate(weights):\n",
    "        currentSum = 0\n",
    "        \n",
    "        # As this is batch gradient decent we will use all examples for updating the weight\n",
    "        for pointIndex, point in enumerate(X): \n",
    "\n",
    "            # This is the partial differential for each weight/coefficent. \n",
    "            # They are summed over every example and then averaged later\n",
    "            differential = (np.dot(point, weights) - y[pointIndex]) * point[weightIndex]\n",
    "            currentSum += differential\n",
    " \n",
    "        # Average the partial differentials and muultiply by the learning rate.\n",
    "        tempWeights[weightIndex] = j - ((currentSum / np.shape(X)[0]) * learningRate)\n",
    "    return tempWeights            "
   ]
  },
  {
   "cell_type": "code",
   "execution_count": 5,
   "metadata": {
    "collapsed": false
   },
   "outputs": [
    {
     "name": "stdout",
     "output_type": "stream",
     "text": [
      "[[ 340407.80104264]\n",
      " [ 108868.21842418]\n",
      " [  -5998.77758838]]\n"
     ]
    },
    {
     "data": {
      "image/png": "[encoded data removed]",
      "text/plain": [
       "<matplotlib.figure.Figure at 0x7fad11609128>"
      ]
     },
     "metadata": {},
     "output_type": "display_data"
    }
   ],
   "source": [
    "costArray = np.zeros([0,1])\n",
    "for i in range(50):\n",
    "    #updates the weights variable with the updated weigths returned by the algorithm\n",
    "    weights =  gradientDecent(normedX, y, weights)\n",
    "\n",
    "    # Gets the current mean squared error of the weights and appends it to the costArray for logging\n",
    "    cost = np.array([costFunction(normedX, y, weights)])\n",
    "    costArray = np.append(costArray, cost)\n",
    "    \n",
    "print(weights)\n",
    "\n",
    "def graphCostArray(costArray, itterations):\n",
    "    plt.plot(range(itterations), costArray[:itterations], \"r\")\n",
    "\n",
    "graphCostArray(costArray, 50)"
   ]
  },
  {
   "cell_type": "code",
   "execution_count": null,
   "metadata": {
    "collapsed": true
   },
   "outputs": [],
   "source": []
  }
 ],
 "metadata": {
  "kernelspec": {
   "display_name": "Python 3",
   "language": "python",
   "name": "python3"
  },
  "language_info": {
   "codemirror_mode": {
    "name": "ipython",
    "version": 3
   },
   "file_extension": ".py",
   "mimetype": "text/x-python",
   "name": "python",
   "nbconvert_exporter": "python",
   "pygments_lexer": "ipython3",
   "version": "3.4.3"
  }
 },
 "nbformat": 4,
 "nbformat_minor": 0
}
